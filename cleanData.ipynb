{
 "cells": [
  {
   "cell_type": "code",
   "execution_count": 14,
   "id": "40983305-f531-4b10-b16a-8726dcc78f03",
   "metadata": {},
   "outputs": [],
   "source": [
    "import pandas as pd\n",
    "import re\n",
    "\n",
    "output = pd.read_csv(\"output.csv\")\n",
    "\n",
    "output = output.drop(output[output.duration < 5].index)\n",
    "output = output.drop(output[output.main_class == None].index)\n",
    "output = output.drop(output[output.sub_class == None].index)\n",
    "output = output.drop(output[output.num_of_cards >50].index)\n",
    "\n",
    "output.to_csv(\"clean.csv\",index=False)"
   ]
  }
 ],
 "metadata": {
  "kernelspec": {
   "display_name": "Python 3 (ipykernel)",
   "language": "python",
   "name": "python3"
  },
  "language_info": {
   "codemirror_mode": {
    "name": "ipython",
    "version": 3
   },
   "file_extension": ".py",
   "mimetype": "text/x-python",
   "name": "python",
   "nbconvert_exporter": "python",
   "pygments_lexer": "ipython3",
   "version": "3.9.12"
  }
 },
 "nbformat": 4,
 "nbformat_minor": 5
}
